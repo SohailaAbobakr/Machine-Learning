{
 "cells": [
  {
   "cell_type": "code",
   "execution_count": null,
   "metadata": {
    "colab": {
     "base_uri": "https://localhost:8080/"
    },
    "id": "TLnmaSWQjiMB",
    "outputId": "e438dcf8-9db0-4ebc-d82d-638f02d62bc4"
   },
   "outputs": [
    {
     "name": "stdout",
     "output_type": "stream",
     "text": [
      "Cloning into 'deep-active-learning'...\n",
      "remote: Enumerating objects: 232, done.\u001b[K\n",
      "remote: Total 232 (delta 0), reused 0 (delta 0), pack-reused 232\u001b[K\n",
      "Receiving objects: 100% (232/232), 44.12 KiB | 1.08 MiB/s, done.\n",
      "Resolving deltas: 100% (141/141), done.\n"
     ]
    }
   ],
   "source": [
    "!git clone https://github.com/ej0cl6/deep-active-learning.git"
   ]
  },
  {
   "cell_type": "code",
   "execution_count": null,
   "metadata": {
    "colab": {
     "base_uri": "https://localhost:8080/"
    },
    "id": "n4lEStgLoUYc",
    "outputId": "947fa89e-c186-4629-fb7e-55a306a272af"
   },
   "outputs": [
    {
     "name": "stdout",
     "output_type": "stream",
     "text": [
      "{'dataset_name': 'MNIST',\n",
      " 'n_init_labeled': 10000,\n",
      " 'n_query': 1000,\n",
      " 'n_round': 10,\n",
      " 'seed': 1,\n",
      " 'strategy_name': 'EntropySampling'}\n",
      "\n",
      "number of labeled pool: 10000\n",
      "number of unlabeled pool: 30000\n",
      "number of testing pool: 10000\n",
      "\n",
      "Round 0\n",
      "100%|███████████████████████████████████████████████████████████████| 10/10 [00:33<00:00,  3.40s/it]\n",
      "Round 0 testing accuracy: 0.9559\n",
      "Round 0 train accuracy: 0.954275\n",
      "Round 1\n",
      "100%|███████████████████████████████████████████████████████████████| 10/10 [00:39<00:00,  3.93s/it]\n",
      "Round 1 testing accuracy: 0.9678\n",
      "Round 1 train accuracy: 0.9681\n",
      "Round 2\n",
      "100%|███████████████████████████████████████████████████████████████| 10/10 [00:41<00:00,  4.13s/it]\n",
      "Round 2 testing accuracy: 0.9722\n",
      "Round 2 train accuracy: 0.972275\n",
      "Round 3\n",
      "100%|███████████████████████████████████████████████████████████████| 10/10 [00:43<00:00,  4.39s/it]\n",
      "Round 3 testing accuracy: 0.9762\n",
      "Round 3 train accuracy: 0.9754\n",
      "Round 4\n",
      "100%|███████████████████████████████████████████████████████████████| 10/10 [00:47<00:00,  4.76s/it]\n",
      "Round 4 testing accuracy: 0.9714\n",
      "Round 4 train accuracy: 0.9725\n",
      "Round 5\n",
      "100%|███████████████████████████████████████████████████████████████| 10/10 [00:50<00:00,  5.05s/it]\n",
      "Round 5 testing accuracy: 0.976\n",
      "Round 5 train accuracy: 0.9767\n",
      "Round 6\n",
      "100%|███████████████████████████████████████████████████████████████| 10/10 [00:53<00:00,  5.34s/it]\n",
      "Round 6 testing accuracy: 0.978\n",
      "Round 6 train accuracy: 0.9777\n",
      "Round 7\n",
      "100%|███████████████████████████████████████████████████████████████| 10/10 [00:57<00:00,  5.75s/it]\n",
      "Round 7 testing accuracy: 0.9816\n",
      "Round 7 train accuracy: 0.9797\n",
      "Round 8\n",
      "100%|███████████████████████████████████████████████████████████████| 10/10 [01:00<00:00,  6.02s/it]\n",
      "Round 8 testing accuracy: 0.98\n",
      "Round 8 train accuracy: 0.979625\n",
      "Round 9\n",
      "100%|███████████████████████████████████████████████████████████████| 10/10 [01:02<00:00,  6.26s/it]\n",
      "Round 9 testing accuracy: 0.9779\n",
      "Round 9 train accuracy: 0.978375\n",
      "Round 10\n",
      "100%|███████████████████████████████████████████████████████████████| 10/10 [01:05<00:00,  6.55s/it]\n",
      "Round 10 testing accuracy: 0.9802\n",
      "Round 10 train accuracy: 0.97905\n"
     ]
    }
   ],
   "source": [
    "!python /content/deep-active-learning/demo.py \\\n",
    "      --n_round 10 \\\n",
    "      --n_query 1000 \\\n",
    "      --n_init_labeled 10000 \\\n",
    "      --dataset_name MNIST \\\n",
    "      --strategy_name EntropySampling \\\n",
    "      --seed 1"
   ]
  },
  {
   "cell_type": "code",
   "execution_count": null,
   "metadata": {
    "colab": {
     "base_uri": "https://localhost:8080/"
    },
    "id": "o5DAH1zfjwD-",
    "outputId": "cd05c528-3c98-4f37-be4d-ce9f4b4ac521"
   },
   "outputs": [
    {
     "name": "stdout",
     "output_type": "stream",
     "text": [
      "{'dataset_name': 'MNIST',\n",
      " 'n_init_labeled': 10000,\n",
      " 'n_query': 1000,\n",
      " 'n_round': 10,\n",
      " 'seed': 1,\n",
      " 'strategy_name': 'MarginSampling'}\n",
      "\n",
      "number of labeled pool: 10000\n",
      "number of unlabeled pool: 30000\n",
      "number of testing pool: 10000\n",
      "\n",
      "Round 0\n",
      "100%|███████████████████████████████████████████████████████████████| 10/10 [00:34<00:00,  3.46s/it]\n",
      "Round 0 testing accuracy: 0.9559\n",
      "Round 0 train accuracy: 0.954275\n",
      "Round 1\n",
      "100%|███████████████████████████████████████████████████████████████| 10/10 [00:36<00:00,  3.70s/it]\n",
      "Round 1 testing accuracy: 0.9674\n",
      "Round 1 train accuracy: 0.96855\n",
      "Round 2\n",
      "100%|███████████████████████████████████████████████████████████████| 10/10 [00:39<00:00,  3.95s/it]\n",
      "Round 2 testing accuracy: 0.9733\n",
      "Round 2 train accuracy: 0.9729\n",
      "Round 3\n",
      "100%|███████████████████████████████████████████████████████████████| 10/10 [00:43<00:00,  4.35s/it]\n",
      "Round 3 testing accuracy: 0.9709\n",
      "Round 3 train accuracy: 0.971975\n",
      "Round 4\n",
      "100%|███████████████████████████████████████████████████████████████| 10/10 [00:47<00:00,  4.76s/it]\n",
      "Round 4 testing accuracy: 0.973\n",
      "Round 4 train accuracy: 0.9724\n",
      "Round 5\n",
      "100%|███████████████████████████████████████████████████████████████| 10/10 [00:51<00:00,  5.11s/it]\n",
      "Round 5 testing accuracy: 0.9756\n",
      "Round 5 train accuracy: 0.977475\n",
      "Round 6\n",
      "100%|███████████████████████████████████████████████████████████████| 10/10 [00:53<00:00,  5.37s/it]\n",
      "Round 6 testing accuracy: 0.9786\n",
      "Round 6 train accuracy: 0.978375\n",
      "Round 7\n",
      "100%|███████████████████████████████████████████████████████████████| 10/10 [00:56<00:00,  5.66s/it]\n",
      "Round 7 testing accuracy: 0.9788\n",
      "Round 7 train accuracy: 0.977675\n",
      "Round 8\n",
      "100%|███████████████████████████████████████████████████████████████| 10/10 [01:00<00:00,  6.05s/it]\n",
      "Round 8 testing accuracy: 0.981\n",
      "Round 8 train accuracy: 0.9795\n",
      "Round 9\n",
      "100%|███████████████████████████████████████████████████████████████| 10/10 [01:03<00:00,  6.37s/it]\n",
      "Round 9 testing accuracy: 0.9784\n",
      "Round 9 train accuracy: 0.977975\n",
      "Round 10\n",
      "100%|███████████████████████████████████████████████████████████████| 10/10 [01:06<00:00,  6.63s/it]\n",
      "Round 10 testing accuracy: 0.9783\n",
      "Round 10 train accuracy: 0.979575\n"
     ]
    }
   ],
   "source": [
    "!python /content/deep-active-learning/demo.py \\\n",
    "      --n_round 10 \\\n",
    "      --n_query 1000 \\\n",
    "      --n_init_labeled 10000 \\\n",
    "      --dataset_name MNIST \\\n",
    "      --strategy_name MarginSampling \\\n",
    "      --seed 1"
   ]
  },
  {
   "cell_type": "code",
   "execution_count": null,
   "metadata": {
    "colab": {
     "base_uri": "https://localhost:8080/"
    },
    "id": "-0EDpScqoVIj",
    "outputId": "60df64f2-f634-455b-96b4-92e111655646"
   },
   "outputs": [
    {
     "name": "stdout",
     "output_type": "stream",
     "text": [
      "{'dataset_name': 'MNIST',\n",
      " 'n_init_labeled': 10000,\n",
      " 'n_query': 1000,\n",
      " 'n_round': 10,\n",
      " 'seed': 1,\n",
      " 'strategy_name': 'LeastConfidence'}\n",
      "\n",
      "number of labeled pool: 10000\n",
      "number of unlabeled pool: 30000\n",
      "number of testing pool: 10000\n",
      "\n",
      "Round 0\n",
      "100%|███████████████████████████████████████████████████████████████| 10/10 [00:35<00:00,  3.50s/it]\n",
      "Round 0 testing accuracy: 0.9559\n",
      "Round 0 train accuracy: 0.954275\n",
      "Round 1\n",
      "100%|███████████████████████████████████████████████████████████████| 10/10 [00:37<00:00,  3.75s/it]\n",
      "Round 1 testing accuracy: 0.9668\n",
      "Round 1 train accuracy: 0.96715\n",
      "Round 2\n",
      "100%|███████████████████████████████████████████████████████████████| 10/10 [00:40<00:00,  4.04s/it]\n",
      "Round 2 testing accuracy: 0.9737\n",
      "Round 2 train accuracy: 0.972575\n",
      "Round 3\n",
      "100%|███████████████████████████████████████████████████████████████| 10/10 [00:44<00:00,  4.43s/it]\n",
      "Round 3 testing accuracy: 0.9728\n",
      "Round 3 train accuracy: 0.972475\n",
      "Round 4\n",
      "100%|███████████████████████████████████████████████████████████████| 10/10 [00:46<00:00,  4.66s/it]\n",
      "Round 4 testing accuracy: 0.9716\n",
      "Round 4 train accuracy: 0.97045\n",
      "Round 5\n",
      "100%|███████████████████████████████████████████████████████████████| 10/10 [00:50<00:00,  5.07s/it]\n",
      "Round 5 testing accuracy: 0.9746\n",
      "Round 5 train accuracy: 0.975975\n",
      "Round 6\n",
      "100%|███████████████████████████████████████████████████████████████| 10/10 [00:54<00:00,  5.44s/it]\n",
      "Round 6 testing accuracy: 0.9789\n",
      "Round 6 train accuracy: 0.977675\n",
      "Round 7\n",
      "100%|███████████████████████████████████████████████████████████████| 10/10 [00:57<00:00,  5.78s/it]\n",
      "Round 7 testing accuracy: 0.9805\n",
      "Round 7 train accuracy: 0.979075\n",
      "Round 8\n",
      "100%|███████████████████████████████████████████████████████████████| 10/10 [01:00<00:00,  6.06s/it]\n",
      "Round 8 testing accuracy: 0.9785\n",
      "Round 8 train accuracy: 0.977925\n",
      "Round 9\n",
      "100%|███████████████████████████████████████████████████████████████| 10/10 [01:03<00:00,  6.39s/it]\n",
      "Round 9 testing accuracy: 0.9787\n",
      "Round 9 train accuracy: 0.977925\n",
      "Round 10\n",
      "100%|███████████████████████████████████████████████████████████████| 10/10 [01:04<00:00,  6.46s/it]\n",
      "Round 10 testing accuracy: 0.98\n",
      "Round 10 train accuracy: 0.97835\n"
     ]
    }
   ],
   "source": [
    "!python /content/deep-active-learning/demo.py \\\n",
    "      --n_round 10 \\\n",
    "      --n_query 1000 \\\n",
    "      --n_init_labeled 10000 \\\n",
    "      --dataset_name MNIST \\\n",
    "      --strategy_name LeastConfidence \\\n",
    "      --seed 1"
   ]
  },
  {
   "cell_type": "code",
   "execution_count": null,
   "metadata": {
    "colab": {
     "base_uri": "https://localhost:8080/"
    },
    "id": "df9f2FNRoVFE",
    "outputId": "fee1df73-bc98-48a0-d9f3-8df2271f8f78"
   },
   "outputs": [
    {
     "name": "stdout",
     "output_type": "stream",
     "text": [
      "{'dataset_name': 'CIFAR10',\n",
      " 'n_init_labeled': 10000,\n",
      " 'n_query': 1000,\n",
      " 'n_round': 10,\n",
      " 'seed': 1,\n",
      " 'strategy_name': 'EntropySampling'}\n",
      "\n",
      "Downloading https://www.cs.toronto.edu/~kriz/cifar-10-python.tar.gz to ./data/CIFAR10/cifar-10-python.tar.gz\n",
      "100% 170498071/170498071 [00:13<00:00, 13057863.58it/s]\n",
      "Extracting ./data/CIFAR10/cifar-10-python.tar.gz to ./data/CIFAR10\n",
      "Files already downloaded and verified\n",
      "number of labeled pool: 10000\n",
      "number of unlabeled pool: 30000\n",
      "number of testing pool: 10000\n",
      "\n",
      "Round 0\n",
      "100%|███████████████████████████████████████████████████████████████| 20/20 [01:23<00:00,  4.18s/it]\n",
      "Round 0 testing accuracy: 0.5265\n",
      "Round 0 train accuracy: 0.584975\n",
      "Round 1\n",
      "100%|███████████████████████████████████████████████████████████████| 20/20 [01:32<00:00,  4.61s/it]\n",
      "Round 1 testing accuracy: 0.5754\n",
      "Round 1 train accuracy: 0.6281\n",
      "Round 2\n",
      "100%|███████████████████████████████████████████████████████████████| 20/20 [01:39<00:00,  5.00s/it]\n",
      "Round 2 testing accuracy: 0.5908\n",
      "Round 2 train accuracy: 0.65615\n",
      "Round 3\n",
      "100%|███████████████████████████████████████████████████████████████| 20/20 [01:48<00:00,  5.42s/it]\n",
      "Round 3 testing accuracy: 0.5406\n",
      "Round 3 train accuracy: 0.6047\n",
      "Round 4\n",
      "100%|███████████████████████████████████████████████████████████████| 20/20 [01:57<00:00,  5.86s/it]\n",
      "Round 4 testing accuracy: 0.601\n",
      "Round 4 train accuracy: 0.676\n",
      "Round 5\n",
      "100%|███████████████████████████████████████████████████████████████| 20/20 [02:05<00:00,  6.27s/it]\n",
      "Round 5 testing accuracy: 0.5735\n",
      "Round 5 train accuracy: 0.655425\n",
      "Round 6\n",
      "100%|███████████████████████████████████████████████████████████████| 20/20 [02:13<00:00,  6.66s/it]\n",
      "Round 6 testing accuracy: 0.6032\n",
      "Round 6 train accuracy: 0.685275\n",
      "Round 7\n",
      "100%|███████████████████████████████████████████████████████████████| 20/20 [02:21<00:00,  7.09s/it]\n",
      "Round 7 testing accuracy: 0.6196\n",
      "Round 7 train accuracy: 0.710675\n",
      "Round 8\n",
      "100%|███████████████████████████████████████████████████████████████| 20/20 [02:29<00:00,  7.47s/it]\n",
      "Round 8 testing accuracy: 0.5913\n",
      "Round 8 train accuracy: 0.67985\n",
      "Round 9\n",
      "100%|███████████████████████████████████████████████████████████████| 20/20 [02:37<00:00,  7.86s/it]\n",
      "Round 9 testing accuracy: 0.6228\n",
      "Round 9 train accuracy: 0.72935\n",
      "Round 10\n",
      "100%|███████████████████████████████████████████████████████████████| 20/20 [02:44<00:00,  8.23s/it]\n",
      "Round 10 testing accuracy: 0.6291\n",
      "Round 10 train accuracy: 0.72755\n"
     ]
    }
   ],
   "source": [
    "!python /content/deep-active-learning/demo.py \\\n",
    "      --n_round 10 \\\n",
    "      --n_query 1000 \\\n",
    "      --n_init_labeled 10000 \\\n",
    "      --dataset_name CIFAR10 \\\n",
    "      --strategy_name EntropySampling \\\n",
    "      --seed 1"
   ]
  },
  {
   "cell_type": "code",
   "execution_count": null,
   "metadata": {
    "colab": {
     "base_uri": "https://localhost:8080/"
    },
    "id": "SIgAQwpaoYgs",
    "outputId": "512916cb-4134-4128-d150-82df166052b6"
   },
   "outputs": [
    {
     "name": "stdout",
     "output_type": "stream",
     "text": [
      "{'dataset_name': 'CIFAR10',\n",
      " 'n_init_labeled': 10000,\n",
      " 'n_query': 1000,\n",
      " 'n_round': 10,\n",
      " 'seed': 1,\n",
      " 'strategy_name': 'MarginSampling'}\n",
      "\n",
      "Files already downloaded and verified\n",
      "Files already downloaded and verified\n",
      "number of labeled pool: 10000\n",
      "number of unlabeled pool: 30000\n",
      "number of testing pool: 10000\n",
      "\n",
      "Round 0\n",
      "100%|███████████████████████████████████████████████████████████████| 20/20 [01:24<00:00,  4.24s/it]\n",
      "Round 0 testing accuracy: 0.5265\n",
      "Round 0 train accuracy: 0.584975\n",
      "Round 1\n",
      "100%|███████████████████████████████████████████████████████████████| 20/20 [01:32<00:00,  4.60s/it]\n",
      "Round 1 testing accuracy: 0.5882\n",
      "Round 1 train accuracy: 0.6406\n",
      "Round 2\n",
      "100%|███████████████████████████████████████████████████████████████| 20/20 [01:39<00:00,  4.99s/it]\n",
      "Round 2 testing accuracy: 0.6051\n",
      "Round 2 train accuracy: 0.67065\n",
      "Round 3\n",
      "100%|███████████████████████████████████████████████████████████████| 20/20 [01:47<00:00,  5.39s/it]\n",
      "Round 3 testing accuracy: 0.4652\n",
      "Round 3 train accuracy: 0.510825\n",
      "Round 4\n",
      "100%|███████████████████████████████████████████████████████████████| 20/20 [01:55<00:00,  5.79s/it]\n",
      "Round 4 testing accuracy: 0.6127\n",
      "Round 4 train accuracy: 0.68655\n",
      "Round 5\n",
      "100%|███████████████████████████████████████████████████████████████| 20/20 [02:04<00:00,  6.23s/it]\n",
      "Round 5 testing accuracy: 0.5875\n",
      "Round 5 train accuracy: 0.670725\n",
      "Round 6\n",
      "100%|███████████████████████████████████████████████████████████████| 20/20 [02:12<00:00,  6.65s/it]\n",
      "Round 6 testing accuracy: 0.6251\n",
      "Round 6 train accuracy: 0.71355\n",
      "Round 7\n",
      "100%|███████████████████████████████████████████████████████████████| 20/20 [02:20<00:00,  7.05s/it]\n",
      "Round 7 testing accuracy: 0.622\n",
      "Round 7 train accuracy: 0.70415\n",
      "Round 8\n",
      "100%|███████████████████████████████████████████████████████████████| 20/20 [02:29<00:00,  7.47s/it]\n",
      "Round 8 testing accuracy: 0.5424\n",
      "Round 8 train accuracy: 0.612425\n",
      "Round 9\n",
      "100%|███████████████████████████████████████████████████████████████| 20/20 [02:38<00:00,  7.91s/it]\n",
      "Round 9 testing accuracy: 0.6144\n",
      "Round 9 train accuracy: 0.710375\n",
      "Round 10\n",
      "100%|███████████████████████████████████████████████████████████████| 20/20 [02:47<00:00,  8.36s/it]\n",
      "Round 10 testing accuracy: 0.6349\n",
      "Round 10 train accuracy: 0.73775\n"
     ]
    }
   ],
   "source": [
    "!python /content/deep-active-learning/demo.py \\\n",
    "      --n_round 10 \\\n",
    "      --n_query 1000 \\\n",
    "      --n_init_labeled 10000 \\\n",
    "      --dataset_name CIFAR10 \\\n",
    "      --strategy_name MarginSampling \\\n",
    "      --seed 1"
   ]
  },
  {
   "cell_type": "code",
   "execution_count": null,
   "metadata": {
    "colab": {
     "base_uri": "https://localhost:8080/"
    },
    "id": "Xy6rUnDjoddi",
    "outputId": "cf5bbd54-5301-47f2-b565-0ede69f5e201"
   },
   "outputs": [
    {
     "name": "stdout",
     "output_type": "stream",
     "text": [
      "{'dataset_name': 'CIFAR10',\n",
      " 'n_init_labeled': 10000,\n",
      " 'n_query': 1000,\n",
      " 'n_round': 10,\n",
      " 'seed': 1,\n",
      " 'strategy_name': 'LeastConfidence'}\n",
      "\n",
      "Files already downloaded and verified\n",
      "Files already downloaded and verified\n",
      "number of labeled pool: 10000\n",
      "number of unlabeled pool: 30000\n",
      "number of testing pool: 10000\n",
      "\n",
      "Round 0\n",
      "100%|███████████████████████████████████████████████████████████████| 20/20 [01:30<00:00,  4.53s/it]\n",
      "Round 0 testing accuracy: 0.5265\n",
      "Round 0 train accuracy: 0.584975\n",
      "Round 1\n",
      "100%|███████████████████████████████████████████████████████████████| 20/20 [01:39<00:00,  4.99s/it]\n",
      "Round 1 testing accuracy: 0.5975\n",
      "Round 1 train accuracy: 0.64765\n",
      "Round 2\n",
      "100%|███████████████████████████████████████████████████████████████| 20/20 [01:49<00:00,  5.46s/it]\n",
      "Round 2 testing accuracy: 0.534\n",
      "Round 2 train accuracy: 0.5971\n",
      "Round 3\n",
      "100%|███████████████████████████████████████████████████████████████| 20/20 [01:53<00:00,  5.68s/it]\n",
      "Round 3 testing accuracy: 0.4327\n",
      "Round 3 train accuracy: 0.465025\n",
      "Round 4\n",
      "100%|███████████████████████████████████████████████████████████████| 20/20 [02:01<00:00,  6.09s/it]\n",
      "Round 4 testing accuracy: 0.5983\n",
      "Round 4 train accuracy: 0.668625\n",
      "Round 5\n",
      "100%|███████████████████████████████████████████████████████████████| 20/20 [02:10<00:00,  6.51s/it]\n",
      "Round 5 testing accuracy: 0.6077\n",
      "Round 5 train accuracy: 0.689\n",
      "Round 6\n",
      "100%|███████████████████████████████████████████████████████████████| 20/20 [02:17<00:00,  6.85s/it]\n",
      "Round 6 testing accuracy: 0.6254\n",
      "Round 6 train accuracy: 0.7142\n",
      "Round 7\n",
      "100%|███████████████████████████████████████████████████████████████| 20/20 [02:26<00:00,  7.35s/it]\n",
      "Round 7 testing accuracy: 0.6099\n",
      "Round 7 train accuracy: 0.704925\n",
      "Round 8\n",
      "100%|███████████████████████████████████████████████████████████████| 20/20 [02:34<00:00,  7.73s/it]\n",
      "Round 8 testing accuracy: 0.5806\n",
      "Round 8 train accuracy: 0.65505\n",
      "Round 9\n",
      "100%|███████████████████████████████████████████████████████████████| 20/20 [02:43<00:00,  8.19s/it]\n",
      "Round 9 testing accuracy: 0.6414\n",
      "Round 9 train accuracy: 0.7468\n",
      "Round 10\n",
      "100%|███████████████████████████████████████████████████████████████| 20/20 [02:54<00:00,  8.70s/it]\n",
      "Round 10 testing accuracy: 0.6317\n",
      "Round 10 train accuracy: 0.7364\n"
     ]
    }
   ],
   "source": [
    "!python /content/deep-active-learning/demo.py \\\n",
    "      --n_round 10 \\\n",
    "      --n_query 1000 \\\n",
    "      --n_init_labeled 10000 \\\n",
    "      --dataset_name CIFAR10 \\\n",
    "      --strategy_name LeastConfidence \\\n",
    "      --seed 1"
   ]
  }
 ],
 "metadata": {
  "accelerator": "GPU",
  "colab": {
   "provenance": []
  },
  "gpuClass": "standard",
  "kernelspec": {
   "display_name": "Python 3 (ipykernel)",
   "language": "python",
   "name": "python3"
  },
  "language_info": {
   "codemirror_mode": {
    "name": "ipython",
    "version": 3
   },
   "file_extension": ".py",
   "mimetype": "text/x-python",
   "name": "python",
   "nbconvert_exporter": "python",
   "pygments_lexer": "ipython3",
   "version": "3.11.0"
  }
 },
 "nbformat": 4,
 "nbformat_minor": 1
}
