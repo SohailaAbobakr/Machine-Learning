{
  "cells": [
    {
      "cell_type": "code",
      "execution_count": 159,
      "id": "69fd33b6",
      "metadata": {
        "id": "69fd33b6"
      },
      "outputs": [],
      "source": [
        "import numpy as np\n",
        "import seaborn as sns\n",
        "from sklearn.model_selection import train_test_split\n",
        "from matplotlib import pyplot as plt\n",
        "%matplotlib inline"
      ]
    },
    {
      "cell_type": "markdown",
      "source": [
        "##Bounce Section"
      ],
      "metadata": {
        "id": "h09-OMr4m6ub"
      },
      "id": "h09-OMr4m6ub"
    },
    {
      "cell_type": "code",
      "execution_count": 316,
      "id": "5ebdf6a6",
      "metadata": {
        "colab": {
          "base_uri": "https://localhost:8080/",
          "height": 206
        },
        "id": "5ebdf6a6",
        "outputId": "25fce05a-be7b-4f4a-86e8-1aaf9650cfca"
      },
      "outputs": [
        {
          "output_type": "execute_result",
          "data": {
            "text/html": [
              "<div>\n",
              "<style scoped>\n",
              "    .dataframe tbody tr th:only-of-type {\n",
              "        vertical-align: middle;\n",
              "    }\n",
              "\n",
              "    .dataframe tbody tr th {\n",
              "        vertical-align: top;\n",
              "    }\n",
              "\n",
              "    .dataframe thead th {\n",
              "        text-align: right;\n",
              "    }\n",
              "</style>\n",
              "<table border=\"1\" class=\"dataframe\">\n",
              "  <thead>\n",
              "    <tr style=\"text-align: right;\">\n",
              "      <th></th>\n",
              "      <th>0</th>\n",
              "      <th>1</th>\n",
              "      <th>2</th>\n",
              "      <th>3</th>\n",
              "      <th>4</th>\n",
              "      <th>Price</th>\n",
              "    </tr>\n",
              "  </thead>\n",
              "  <tbody>\n",
              "    <tr>\n",
              "      <th>0</th>\n",
              "      <td>0.960369</td>\n",
              "      <td>0.000069</td>\n",
              "      <td>0.000085</td>\n",
              "      <td>0.000049</td>\n",
              "      <td>0.278732</td>\n",
              "      <td>1.059034e+06</td>\n",
              "    </tr>\n",
              "    <tr>\n",
              "      <th>1</th>\n",
              "      <td>0.891943</td>\n",
              "      <td>0.000068</td>\n",
              "      <td>0.000076</td>\n",
              "      <td>0.000035</td>\n",
              "      <td>0.452148</td>\n",
              "      <td>1.505891e+06</td>\n",
              "    </tr>\n",
              "    <tr>\n",
              "      <th>2</th>\n",
              "      <td>0.856814</td>\n",
              "      <td>0.000082</td>\n",
              "      <td>0.000119</td>\n",
              "      <td>0.000072</td>\n",
              "      <td>0.515625</td>\n",
              "      <td>1.058988e+06</td>\n",
              "    </tr>\n",
              "    <tr>\n",
              "      <th>3</th>\n",
              "      <td>0.879302</td>\n",
              "      <td>0.000100</td>\n",
              "      <td>0.000078</td>\n",
              "      <td>0.000045</td>\n",
              "      <td>0.476264</td>\n",
              "      <td>1.260617e+06</td>\n",
              "    </tr>\n",
              "    <tr>\n",
              "      <th>4</th>\n",
              "      <td>0.915529</td>\n",
              "      <td>0.000077</td>\n",
              "      <td>0.000120</td>\n",
              "      <td>0.000065</td>\n",
              "      <td>0.402252</td>\n",
              "      <td>6.309435e+05</td>\n",
              "    </tr>\n",
              "  </tbody>\n",
              "</table>\n",
              "</div>"
            ],
            "text/plain": [
              "          0         1         2         3         4         Price\n",
              "0  0.960369  0.000069  0.000085  0.000049  0.278732  1.059034e+06\n",
              "1  0.891943  0.000068  0.000076  0.000035  0.452148  1.505891e+06\n",
              "2  0.856814  0.000082  0.000119  0.000072  0.515625  1.058988e+06\n",
              "3  0.879302  0.000100  0.000078  0.000045  0.476264  1.260617e+06\n",
              "4  0.915529  0.000077  0.000120  0.000065  0.402252  6.309435e+05"
            ]
          },
          "metadata": {},
          "execution_count": 316
        }
      ],
      "source": [
        "dataset= pd.read_csv('USA_Housing.csv')\n",
        "dataset = dataset.drop(columns=[\"Address\"])\n",
        "price = dataset['Price']\n",
        "dataset = dataset.drop(columns=[\"Price\"])\n",
        "dataset = preprocessing.normalize(dataset)\n",
        "scaled_df = pd.DataFrame(dataset)\n",
        "scaled_df['Price'] = price\n",
        "scaled_df.head()"
      ]
    },
    {
      "cell_type": "code",
      "execution_count": 290,
      "id": "21bea755",
      "metadata": {
        "colab": {
          "base_uri": "https://localhost:8080/"
        },
        "id": "21bea755",
        "outputId": "250eb8cb-462a-4fb1-e5ff-6b9da2150d87"
      },
      "outputs": [
        {
          "output_type": "stream",
          "name": "stdout",
          "text": [
            "<class 'pandas.core.frame.DataFrame'>\n",
            "RangeIndex: 5000 entries, 0 to 4999\n",
            "Data columns (total 6 columns):\n",
            " #   Column                        Non-Null Count  Dtype  \n",
            "---  ------                        --------------  -----  \n",
            " 0   Avg. Area Income              5000 non-null   float64\n",
            " 1   Avg. Area House Age           5000 non-null   float64\n",
            " 2   Avg. Area Number of Rooms     5000 non-null   float64\n",
            " 3   Avg. Area Number of Bedrooms  5000 non-null   float64\n",
            " 4   Area Population               5000 non-null   float64\n",
            " 5   Price                         5000 non-null   float64\n",
            "dtypes: float64(6)\n",
            "memory usage: 234.5 KB\n"
          ]
        }
      ],
      "source": [
        "dataset.info()"
      ]
    },
    {
      "cell_type": "code",
      "execution_count": 291,
      "id": "ca6c565c",
      "metadata": {
        "colab": {
          "base_uri": "https://localhost:8080/",
          "height": 300
        },
        "id": "ca6c565c",
        "outputId": "6822a1ae-b470-4dd4-d082-97da9087db39"
      },
      "outputs": [
        {
          "output_type": "execute_result",
          "data": {
            "text/html": [
              "<div>\n",
              "<style scoped>\n",
              "    .dataframe tbody tr th:only-of-type {\n",
              "        vertical-align: middle;\n",
              "    }\n",
              "\n",
              "    .dataframe tbody tr th {\n",
              "        vertical-align: top;\n",
              "    }\n",
              "\n",
              "    .dataframe thead th {\n",
              "        text-align: right;\n",
              "    }\n",
              "</style>\n",
              "<table border=\"1\" class=\"dataframe\">\n",
              "  <thead>\n",
              "    <tr style=\"text-align: right;\">\n",
              "      <th></th>\n",
              "      <th>Avg. Area Income</th>\n",
              "      <th>Avg. Area House Age</th>\n",
              "      <th>Avg. Area Number of Rooms</th>\n",
              "      <th>Avg. Area Number of Bedrooms</th>\n",
              "      <th>Area Population</th>\n",
              "      <th>Price</th>\n",
              "    </tr>\n",
              "  </thead>\n",
              "  <tbody>\n",
              "    <tr>\n",
              "      <th>count</th>\n",
              "      <td>5000.000000</td>\n",
              "      <td>5000.000000</td>\n",
              "      <td>5000.000000</td>\n",
              "      <td>5000.000000</td>\n",
              "      <td>5000.000000</td>\n",
              "      <td>5.000000e+03</td>\n",
              "    </tr>\n",
              "    <tr>\n",
              "      <th>mean</th>\n",
              "      <td>68583.108984</td>\n",
              "      <td>5.977222</td>\n",
              "      <td>6.987792</td>\n",
              "      <td>3.981330</td>\n",
              "      <td>36163.516039</td>\n",
              "      <td>1.232073e+06</td>\n",
              "    </tr>\n",
              "    <tr>\n",
              "      <th>std</th>\n",
              "      <td>10657.991214</td>\n",
              "      <td>0.991456</td>\n",
              "      <td>1.005833</td>\n",
              "      <td>1.234137</td>\n",
              "      <td>9925.650114</td>\n",
              "      <td>3.531176e+05</td>\n",
              "    </tr>\n",
              "    <tr>\n",
              "      <th>min</th>\n",
              "      <td>17796.631190</td>\n",
              "      <td>2.644304</td>\n",
              "      <td>3.236194</td>\n",
              "      <td>2.000000</td>\n",
              "      <td>172.610686</td>\n",
              "      <td>1.593866e+04</td>\n",
              "    </tr>\n",
              "    <tr>\n",
              "      <th>25%</th>\n",
              "      <td>61480.562388</td>\n",
              "      <td>5.322283</td>\n",
              "      <td>6.299250</td>\n",
              "      <td>3.140000</td>\n",
              "      <td>29403.928702</td>\n",
              "      <td>9.975771e+05</td>\n",
              "    </tr>\n",
              "    <tr>\n",
              "      <th>50%</th>\n",
              "      <td>68804.286404</td>\n",
              "      <td>5.970429</td>\n",
              "      <td>7.002902</td>\n",
              "      <td>4.050000</td>\n",
              "      <td>36199.406689</td>\n",
              "      <td>1.232669e+06</td>\n",
              "    </tr>\n",
              "    <tr>\n",
              "      <th>75%</th>\n",
              "      <td>75783.338666</td>\n",
              "      <td>6.650808</td>\n",
              "      <td>7.665871</td>\n",
              "      <td>4.490000</td>\n",
              "      <td>42861.290769</td>\n",
              "      <td>1.471210e+06</td>\n",
              "    </tr>\n",
              "    <tr>\n",
              "      <th>max</th>\n",
              "      <td>107701.748378</td>\n",
              "      <td>9.519088</td>\n",
              "      <td>10.759588</td>\n",
              "      <td>6.500000</td>\n",
              "      <td>69621.713378</td>\n",
              "      <td>2.469066e+06</td>\n",
              "    </tr>\n",
              "  </tbody>\n",
              "</table>\n",
              "</div>"
            ],
            "text/plain": [
              "       Avg. Area Income  Avg. Area House Age  ...  Area Population         Price\n",
              "count       5000.000000          5000.000000  ...      5000.000000  5.000000e+03\n",
              "mean       68583.108984             5.977222  ...     36163.516039  1.232073e+06\n",
              "std        10657.991214             0.991456  ...      9925.650114  3.531176e+05\n",
              "min        17796.631190             2.644304  ...       172.610686  1.593866e+04\n",
              "25%        61480.562388             5.322283  ...     29403.928702  9.975771e+05\n",
              "50%        68804.286404             5.970429  ...     36199.406689  1.232669e+06\n",
              "75%        75783.338666             6.650808  ...     42861.290769  1.471210e+06\n",
              "max       107701.748378             9.519088  ...     69621.713378  2.469066e+06\n",
              "\n",
              "[8 rows x 6 columns]"
            ]
          },
          "metadata": {},
          "execution_count": 291
        }
      ],
      "source": [
        "dataset.describe()"
      ]
    },
    {
      "cell_type": "code",
      "source": [
        "sns.heatmap(dataset.corr(), annot=True)"
      ],
      "metadata": {
        "colab": {
          "base_uri": "https://localhost:8080/",
          "height": 433
        },
        "id": "DVNHqDDJnnry",
        "outputId": "9610ea5b-e267-4e3a-f798-b16fd7e99b2a"
      },
      "id": "DVNHqDDJnnry",
      "execution_count": 293,
      "outputs": [
        {
          "output_type": "execute_result",
          "data": {
            "text/plain": [
              "<matplotlib.axes._subplots.AxesSubplot at 0x7ff6bf5b8850>"
            ]
          },
          "metadata": {},
          "execution_count": 293
        },
        {
          "output_type": "display_data",
          "data": {
            "image/png": "[encoded data removed]",
            "text/plain": [
              "<Figure size 432x288 with 2 Axes>"
            ]
          },
          "metadata": {
            "needs_background": "light"
          }
        }
      ]
    },
    {
      "cell_type": "code",
      "execution_count": 320,
      "id": "fd55480b",
      "metadata": {
        "id": "fd55480b"
      },
      "outputs": [],
      "source": [
        "X = np.array(scaled_df.iloc[:,0:5])\n",
        "Y = np.array(scaled_df['Price'])"
      ]
    },
    {
      "cell_type": "code",
      "execution_count": 321,
      "id": "b33c68ed",
      "metadata": {
        "colab": {
          "base_uri": "https://localhost:8080/"
        },
        "id": "b33c68ed",
        "outputId": "f855880a-dd82-4415-f378-d91ec82f6276"
      },
      "outputs": [
        {
          "output_type": "execute_result",
          "data": {
            "text/plain": [
              "(5000, 5)"
            ]
          },
          "metadata": {},
          "execution_count": 321
        }
      ],
      "source": [
        "X.shape"
      ]
    },
    {
      "cell_type": "code",
      "execution_count": 322,
      "id": "cc856b99",
      "metadata": {
        "colab": {
          "base_uri": "https://localhost:8080/"
        },
        "id": "cc856b99",
        "outputId": "83ca4fc0-b269-4118-bd22-7e1cf1f6ae12"
      },
      "outputs": [
        {
          "output_type": "execute_result",
          "data": {
            "text/plain": [
              "(5000, 1)"
            ]
          },
          "metadata": {},
          "execution_count": 322
        }
      ],
      "source": [
        "Y = Y.reshape(Y.shape[0],1)\n",
        "Y.shape"
      ]
    },
    {
      "cell_type": "markdown",
      "source": [
        "##Generate 1000 random examples"
      ],
      "metadata": {
        "id": "07kDgxvkfwbs"
      },
      "id": "07kDgxvkfwbs"
    },
    {
      "cell_type": "code",
      "source": [
        "np.random.seed(42)\n",
        "X = np.random.rand(1000,3)\n",
        "Y = np.dot(X,[5,3,1.5]) + 6 #Scalar values.\n",
        "Y = Y.reshape(1000, 1) "
      ],
      "metadata": {
        "id": "rl7s-jsi8QAc"
      },
      "id": "rl7s-jsi8QAc",
      "execution_count": 327,
      "outputs": []
    },
    {
      "cell_type": "markdown",
      "source": [
        "##Define a MSE function"
      ],
      "metadata": {
        "id": "Mz1d5InbhmaP"
      },
      "id": "Mz1d5InbhmaP"
    },
    {
      "cell_type": "code",
      "execution_count": 328,
      "id": "a385f1a0",
      "metadata": {
        "id": "a385f1a0"
      },
      "outputs": [],
      "source": [
        "def meanSquaredError(actual, predicted):\n",
        "    s = ((actual-predicted)**2)\n",
        "    cost = np.mean(s)\n",
        "    return cost"
      ]
    },
    {
      "cell_type": "markdown",
      "source": [
        "##Define a gradient decent function"
      ],
      "metadata": {
        "id": "81tnkcAzgCvB"
      },
      "id": "81tnkcAzgCvB"
    },
    {
      "cell_type": "code",
      "execution_count": 329,
      "id": "97cd7c51",
      "metadata": {
        "id": "97cd7c51"
      },
      "outputs": [],
      "source": [
        "def gradient_decent_v2(x, y, num_iterations = 30 , learning_rate= 0.05 , Seed = 42):\n",
        "   \n",
        "    np.random.seed(Seed)\n",
        "        \n",
        "    x_weights = x.shape[1] #Number of weights \n",
        "    w, b = np.random.randn(x_weights).reshape(x_weights,1), np.random.randn(1)[0]\n",
        "\n",
        "    parameters, losses = [], []\n",
        "    for i in range(num_iterations):\n",
        "      \n",
        "      y_predicted = (np.dot(x,w) + b).reshape(y.shape[0],1) #(w.x^i + b) y_predicted = y_hat\n",
        "      loss_eq =  y - y_predicted  # y(predicted)i - (w.x^i + b)\n",
        "      w -= learning_rate * (-2 * np.dot(x.transpose(),loss_eq).sum() / len(x)) #N = len(x)\n",
        "      b -= learning_rate * (-2 * loss_eq.sum() / len(x))\n",
        "      parameters.append((w, b))\n",
        "      loss = meanSquaredError(y, y_predicted) #Loss over iteration \n",
        "      losses.append(loss)\n",
        "      print(f\"After Iteration #{i+1}, Loss = {loss} \")\n",
        "    return w, b, parameters, losses"
      ]
    },
    {
      "cell_type": "markdown",
      "source": [
        "##Split data into (Traning && Test data)"
      ],
      "metadata": {
        "id": "eOuyZJ2lgQ4J"
      },
      "id": "eOuyZJ2lgQ4J"
    },
    {
      "cell_type": "code",
      "source": [
        "x_train, x_test, y_train, y_test = train_test_split(X, Y, test_size=0.3, random_state=42)"
      ],
      "metadata": {
        "id": "OfJTo_FUDzOW"
      },
      "id": "OfJTo_FUDzOW",
      "execution_count": 330,
      "outputs": []
    },
    {
      "cell_type": "markdown",
      "source": [
        "##Run GD function to calculate loss & find optimal parameters"
      ],
      "metadata": {
        "id": "ehw-uQjrgYRW"
      },
      "id": "ehw-uQjrgYRW"
    },
    {
      "cell_type": "code",
      "source": [
        "w,b,parameters,losses = gradient_decent_v2(x_train, y_train) #Training the model"
      ],
      "metadata": {
        "colab": {
          "base_uri": "https://localhost:8080/"
        },
        "id": "AxJupNkM0NyX",
        "outputId": "750a8572-80b5-4ae5-9f79-5d5b4351c494"
      },
      "id": "AxJupNkM0NyX",
      "execution_count": 331,
      "outputs": [
        {
          "output_type": "stream",
          "name": "stdout",
          "text": [
            "After Iteration #1, Loss = 80.68803498777675 \n",
            "After Iteration #2, Loss = 34.808485861735484 \n",
            "After Iteration #3, Loss = 15.335771541183949 \n",
            "After Iteration #4, Loss = 7.068970439065309 \n",
            "After Iteration #5, Loss = 3.5575010470760993 \n",
            "After Iteration #6, Loss = 2.0640287850990617 \n",
            "After Iteration #7, Loss = 1.426952436618958 \n",
            "After Iteration #8, Loss = 1.153340470788448 \n",
            "After Iteration #9, Loss = 1.0340144132868292 \n",
            "After Iteration #10, Loss = 0.9802077104376233 \n",
            "After Iteration #11, Loss = 0.9542511694163593 \n",
            "After Iteration #12, Loss = 0.940159006966575 \n",
            "After Iteration #13, Loss = 0.9311469042107794 \n",
            "After Iteration #14, Loss = 0.92433523585272 \n",
            "After Iteration #15, Loss = 0.9185013610658533 \n",
            "After Iteration #16, Loss = 0.9131257976849649 \n",
            "After Iteration #17, Loss = 0.9079874617097468 \n",
            "After Iteration #18, Loss = 0.9029919051920761 \n",
            "After Iteration #19, Loss = 0.8980984280573818 \n",
            "After Iteration #20, Loss = 0.8932891475351387 \n",
            "After Iteration #21, Loss = 0.8885558724951154 \n",
            "After Iteration #22, Loss = 0.8838945333789697 \n",
            "After Iteration #23, Loss = 0.879302818385314 \n",
            "After Iteration #24, Loss = 0.8747791702450666 \n",
            "After Iteration #25, Loss = 0.8703223603714247 \n",
            "After Iteration #26, Loss = 0.8659313080232809 \n",
            "After Iteration #27, Loss = 0.861605003443058 \n",
            "After Iteration #28, Loss = 0.8573424751183838 \n",
            "After Iteration #29, Loss = 0.8531427757697133 \n",
            "After Iteration #30, Loss = 0.8490049762861528 \n"
          ]
        }
      ]
    },
    {
      "cell_type": "markdown",
      "source": [
        "##Plot change in loss over iterations"
      ],
      "metadata": {
        "id": "CPyeXOdTggEj"
      },
      "id": "CPyeXOdTggEj"
    },
    {
      "cell_type": "code",
      "source": [
        "num_iterations = 30\n",
        "plt.figure(figsize=(15,8))\n",
        "plt.plot(np.arange(1,num_iterations + 1), losses)\n",
        "plt.xticks(np.arange(1,num_iterations + 1))\n",
        "plt.suptitle('Loss of Linear Regression Model Over Iterations', fontsize = 18)\n",
        "plt.xlabel('Iterations', fontsize = 18)\n",
        "plt.ylabel('Loss', fontsize = 18)"
      ],
      "metadata": {
        "colab": {
          "base_uri": "https://localhost:8080/",
          "height": 579
        },
        "id": "pVEV6ZulK6-B",
        "outputId": "6340132f-9be8-482b-e7f0-ccfb6de1f085"
      },
      "id": "pVEV6ZulK6-B",
      "execution_count": 333,
      "outputs": [
        {
          "output_type": "execute_result",
          "data": {
            "text/plain": [
              "Text(0, 0.5, 'Loss')"
            ]
          },
          "metadata": {},
          "execution_count": 333
        },
        {
          "output_type": "display_data",
          "data": {
            "image/png": "[encoded data removed]",
            "text/plain": [
              "<Figure size 1080x576 with 1 Axes>"
            ]
          },
          "metadata": {
            "needs_background": "light"
          }
        }
      ]
    },
    {
      "cell_type": "markdown",
      "source": [
        "##Find (Traning loss && Optimal Paramerts && Test loss)"
      ],
      "metadata": {
        "id": "I3c8D35xhPMI"
      },
      "id": "I3c8D35xhPMI"
    },
    {
      "cell_type": "code",
      "source": [
        "print(f\"Model can predict (Truth Value Y) in (Training data) with error(MSE) : {np.round(losses[-1],2)}\")"
      ],
      "metadata": {
        "colab": {
          "base_uri": "https://localhost:8080/"
        },
        "id": "_aWzpneJOp_N",
        "outputId": "5a515c4c-8236-44df-c85a-6c17afa65229"
      },
      "id": "_aWzpneJOp_N",
      "execution_count": 334,
      "outputs": [
        {
          "output_type": "stream",
          "name": "stdout",
          "text": [
            "Model can predict (Truth Value Y) in (Training data) with error(MSE) : 0.85\n"
          ]
        }
      ]
    },
    {
      "cell_type": "code",
      "source": [
        "print(f\"Optimized values for weights (W1,W2,W3) {w[0][0],w[1][0],w[2][0]}, bias (b) {b}\")"
      ],
      "metadata": {
        "colab": {
          "base_uri": "https://localhost:8080/"
        },
        "id": "Nue-Aih3PIDR",
        "outputId": "a77b9228-95eb-4666-bbe1-2b2577454770"
      },
      "id": "Nue-Aih3PIDR",
      "execution_count": 335,
      "outputs": [
        {
          "output_type": "stream",
          "name": "stdout",
          "text": [
            "Optimized values for weights (W1,W2,W3) (4.328461035956734, 3.6934825817743184, 4.479435421046195), bias (b) 4.422791201572035\n"
          ]
        }
      ]
    },
    {
      "cell_type": "code",
      "source": [
        "pred = (np.dot(x_test, w) + b).reshape(y_test.shape[0],1)\n",
        "print(f\"Model can predict (Truth Value Y) in (Test data) with error(MSE) : {np.round(meanSquaredError(y_test, pred),2)}\")"
      ],
      "metadata": {
        "colab": {
          "base_uri": "https://localhost:8080/"
        },
        "id": "CzZGwdp5JuYn",
        "outputId": "7d8c7ee8-f675-49f6-93d5-332a5689805c"
      },
      "id": "CzZGwdp5JuYn",
      "execution_count": 336,
      "outputs": [
        {
          "output_type": "stream",
          "name": "stdout",
          "text": [
            "Model can predict (Truth Value Y) in (Test data) with error(MSE) : 0.83\n"
          ]
        }
      ]
    }
  ],
  "metadata": {
    "kernelspec": {
      "display_name": "Python 3 (ipykernel)",
      "language": "python",
      "name": "python3"
    },
    "language_info": {
      "codemirror_mode": {
        "name": "ipython",
        "version": 3
      },
      "file_extension": ".py",
      "mimetype": "text/x-python",
      "name": "python",
      "nbconvert_exporter": "python",
      "pygments_lexer": "ipython3",
      "version": "3.9.6"
    },
    "colab": {
      "name": "Linear Regression Model.ipynb",
      "provenance": [],
      "collapsed_sections": []
    }
  },
  "nbformat": 4,
  "nbformat_minor": 5
}