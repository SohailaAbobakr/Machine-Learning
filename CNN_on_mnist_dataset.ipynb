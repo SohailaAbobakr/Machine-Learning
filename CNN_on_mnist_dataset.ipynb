{
  "nbformat": 4,
  "nbformat_minor": 0,
  "metadata": {
    "colab": {
      "name": "CNN on mnist dataset.ipynb",
      "provenance": []
    },
    "kernelspec": {
      "name": "python3",
      "display_name": "Python 3"
    },
    "language_info": {
      "name": "python"
    },
    "accelerator": "GPU"
  },
  "cells": [
    {
      "cell_type": "code",
      "execution_count": 1,
      "metadata": {
        "id": "A3XQcTeFLhVy"
      },
      "outputs": [],
      "source": [
        "import tensorflow as tf\n",
        "import keras \n",
        "import numpy as np\n",
        "import pandas as pd\n",
        "import matplotlib.pyplot as plt\n",
        "from tensorflow.keras.utils import to_categorical\n",
        "from keras import layers\n",
        "from keras import models"
      ]
    },
    {
      "cell_type": "code",
      "source": [
        "(x_train, y_train), (x_test, y_test) = keras.datasets.mnist.load_data()"
      ],
      "metadata": {
        "id": "8p-p6IQ9MnxM"
      },
      "execution_count": 2,
      "outputs": []
    },
    {
      "cell_type": "code",
      "source": [
        "x_train.shape"
      ],
      "metadata": {
        "colab": {
          "base_uri": "https://localhost:8080/"
        },
        "id": "KjFD1yqhNd9o",
        "outputId": "eae3b9a6-693c-43ae-d63f-35e8dda20c68"
      },
      "execution_count": 3,
      "outputs": [
        {
          "output_type": "execute_result",
          "data": {
            "text/plain": [
              "(60000, 28, 28)"
            ]
          },
          "metadata": {},
          "execution_count": 3
        }
      ]
    },
    {
      "cell_type": "code",
      "source": [
        "x_train = x_train.reshape(-1, 28, 28, 1)\n",
        "x_test = x_test.reshape(-1, 28, 28, 1)\n",
        "x_train.shape"
      ],
      "metadata": {
        "colab": {
          "base_uri": "https://localhost:8080/"
        },
        "id": "QECtBk0W7Tmj",
        "outputId": "a4c5f701-e416-4402-8bf0-1458bc7eb94f"
      },
      "execution_count": 4,
      "outputs": [
        {
          "output_type": "execute_result",
          "data": {
            "text/plain": [
              "(60000, 28, 28, 1)"
            ]
          },
          "metadata": {},
          "execution_count": 4
        }
      ]
    },
    {
      "cell_type": "code",
      "source": [
        "x_train = x_train / 255.0\n",
        "x_test = x_test / 255.0"
      ],
      "metadata": {
        "id": "6EnpFWvOOOgr"
      },
      "execution_count": 5,
      "outputs": []
    },
    {
      "cell_type": "code",
      "source": [
        "y_train = to_categorical(y_train, num_classes = 10)\n",
        "y_test = to_categorical(y_test, num_classes = 10)"
      ],
      "metadata": {
        "id": "KU07brqs6xFG"
      },
      "execution_count": 6,
      "outputs": []
    },
    {
      "cell_type": "code",
      "source": [
        "model = models.Sequential()\n",
        "model.add(layers.Conv2D(32,(2,2), activation='relu', input_shape = (28,28,1)))\n",
        "model.add(layers.MaxPooling2D((2,2)))\n",
        "model.add(layers.Conv2D(32,(2,2), activation='relu'))\n",
        "model.add(layers.MaxPooling2D((2,2)))\n",
        "model.add(layers.Conv2D(32,(2,2), activation='relu'))\n",
        "model.add(layers.Flatten())\n",
        "model.add(layers.Dense(32,activation = 'relu'))\n",
        "model.add(layers.Dense(10, activation= 'softmax'))\n",
        "model.summary()"
      ],
      "metadata": {
        "colab": {
          "base_uri": "https://localhost:8080/"
        },
        "id": "7gXzZrdE4OUi",
        "outputId": "9df49c2a-afb2-4393-b9fb-72dc5d0bbcd3"
      },
      "execution_count": 7,
      "outputs": [
        {
          "output_type": "stream",
          "name": "stdout",
          "text": [
            "Model: \"sequential\"\n",
            "_________________________________________________________________\n",
            " Layer (type)                Output Shape              Param #   \n",
            "=================================================================\n",
            " conv2d (Conv2D)             (None, 27, 27, 32)        160       \n",
            "                                                                 \n",
            " max_pooling2d (MaxPooling2D  (None, 13, 13, 32)       0         \n",
            " )                                                               \n",
            "                                                                 \n",
            " conv2d_1 (Conv2D)           (None, 12, 12, 32)        4128      \n",
            "                                                                 \n",
            " max_pooling2d_1 (MaxPooling  (None, 6, 6, 32)         0         \n",
            " 2D)                                                             \n",
            "                                                                 \n",
            " conv2d_2 (Conv2D)           (None, 5, 5, 32)          4128      \n",
            "                                                                 \n",
            " flatten (Flatten)           (None, 800)               0         \n",
            "                                                                 \n",
            " dense (Dense)               (None, 32)                25632     \n",
            "                                                                 \n",
            " dense_1 (Dense)             (None, 10)                330       \n",
            "                                                                 \n",
            "=================================================================\n",
            "Total params: 34,378\n",
            "Trainable params: 34,378\n",
            "Non-trainable params: 0\n",
            "_________________________________________________________________\n"
          ]
        }
      ]
    },
    {
      "cell_type": "code",
      "source": [
        "model.compile(loss=\"categorical_crossentropy\", \n",
        "              optimizer=\"adam\",\n",
        "              metrics=[\"accuracy\"])"
      ],
      "metadata": {
        "id": "3IqGnDJN5TBt"
      },
      "execution_count": 8,
      "outputs": []
    },
    {
      "cell_type": "code",
      "source": [
        "model.fit(x=x_train, y=y_train, batch_size=256, epochs=50, shuffle=True)"
      ],
      "metadata": {
        "colab": {
          "base_uri": "https://localhost:8080/"
        },
        "id": "wiJ6hQ5oRUYC",
        "outputId": "3b820c47-8bbb-4045-fa78-822a3ed0b88f"
      },
      "execution_count": 9,
      "outputs": [
        {
          "output_type": "stream",
          "name": "stdout",
          "text": [
            "Epoch 1/50\n",
            "235/235 [==============================] - 7s 10ms/step - loss: 0.5044 - accuracy: 0.8498\n",
            "Epoch 2/50\n",
            "235/235 [==============================] - 2s 8ms/step - loss: 0.1099 - accuracy: 0.9676\n",
            "Epoch 3/50\n",
            "235/235 [==============================] - 1s 6ms/step - loss: 0.0732 - accuracy: 0.9779\n",
            "Epoch 4/50\n",
            "235/235 [==============================] - 1s 6ms/step - loss: 0.0566 - accuracy: 0.9832\n",
            "Epoch 5/50\n",
            "235/235 [==============================] - 1s 6ms/step - loss: 0.0474 - accuracy: 0.9860\n",
            "Epoch 6/50\n",
            "235/235 [==============================] - 1s 6ms/step - loss: 0.0414 - accuracy: 0.9872\n",
            "Epoch 7/50\n",
            "235/235 [==============================] - 1s 6ms/step - loss: 0.0368 - accuracy: 0.9890\n",
            "Epoch 8/50\n",
            "235/235 [==============================] - 1s 6ms/step - loss: 0.0316 - accuracy: 0.9902\n",
            "Epoch 9/50\n",
            "235/235 [==============================] - 1s 6ms/step - loss: 0.0282 - accuracy: 0.9915\n",
            "Epoch 10/50\n",
            "235/235 [==============================] - 1s 6ms/step - loss: 0.0254 - accuracy: 0.9922\n",
            "Epoch 11/50\n",
            "235/235 [==============================] - 1s 6ms/step - loss: 0.0220 - accuracy: 0.9931\n",
            "Epoch 12/50\n",
            "235/235 [==============================] - 1s 6ms/step - loss: 0.0194 - accuracy: 0.9941\n",
            "Epoch 13/50\n",
            "235/235 [==============================] - 1s 6ms/step - loss: 0.0180 - accuracy: 0.9944\n",
            "Epoch 14/50\n",
            "235/235 [==============================] - 1s 6ms/step - loss: 0.0162 - accuracy: 0.9949\n",
            "Epoch 15/50\n",
            "235/235 [==============================] - 1s 6ms/step - loss: 0.0158 - accuracy: 0.9949\n",
            "Epoch 16/50\n",
            "235/235 [==============================] - 1s 6ms/step - loss: 0.0133 - accuracy: 0.9959\n",
            "Epoch 17/50\n",
            "235/235 [==============================] - 1s 6ms/step - loss: 0.0120 - accuracy: 0.9961\n",
            "Epoch 18/50\n",
            "235/235 [==============================] - 1s 6ms/step - loss: 0.0116 - accuracy: 0.9964\n",
            "Epoch 19/50\n",
            "235/235 [==============================] - 1s 6ms/step - loss: 0.0097 - accuracy: 0.9970\n",
            "Epoch 20/50\n",
            "235/235 [==============================] - 1s 6ms/step - loss: 0.0096 - accuracy: 0.9968\n",
            "Epoch 21/50\n",
            "235/235 [==============================] - 1s 6ms/step - loss: 0.0077 - accuracy: 0.9975\n",
            "Epoch 22/50\n",
            "235/235 [==============================] - 1s 6ms/step - loss: 0.0070 - accuracy: 0.9980\n",
            "Epoch 23/50\n",
            "235/235 [==============================] - 1s 6ms/step - loss: 0.0063 - accuracy: 0.9980\n",
            "Epoch 24/50\n",
            "235/235 [==============================] - 1s 6ms/step - loss: 0.0091 - accuracy: 0.9968\n",
            "Epoch 25/50\n",
            "235/235 [==============================] - 1s 6ms/step - loss: 0.0066 - accuracy: 0.9976\n",
            "Epoch 26/50\n",
            "235/235 [==============================] - 1s 6ms/step - loss: 0.0060 - accuracy: 0.9980\n",
            "Epoch 27/50\n",
            "235/235 [==============================] - 2s 6ms/step - loss: 0.0046 - accuracy: 0.9985\n",
            "Epoch 28/50\n",
            "235/235 [==============================] - 1s 6ms/step - loss: 0.0041 - accuracy: 0.9988\n",
            "Epoch 29/50\n",
            "235/235 [==============================] - 1s 6ms/step - loss: 0.0042 - accuracy: 0.9987\n",
            "Epoch 30/50\n",
            "235/235 [==============================] - 1s 6ms/step - loss: 0.0067 - accuracy: 0.9977\n",
            "Epoch 31/50\n",
            "235/235 [==============================] - 1s 6ms/step - loss: 0.0046 - accuracy: 0.9986\n",
            "Epoch 32/50\n",
            "235/235 [==============================] - 1s 6ms/step - loss: 0.0042 - accuracy: 0.9985\n",
            "Epoch 33/50\n",
            "235/235 [==============================] - 1s 6ms/step - loss: 0.0056 - accuracy: 0.9981\n",
            "Epoch 34/50\n",
            "235/235 [==============================] - 1s 6ms/step - loss: 0.0032 - accuracy: 0.9990\n",
            "Epoch 35/50\n",
            "235/235 [==============================] - 1s 6ms/step - loss: 0.0029 - accuracy: 0.9991\n",
            "Epoch 36/50\n",
            "235/235 [==============================] - 1s 6ms/step - loss: 0.0054 - accuracy: 0.9981\n",
            "Epoch 37/50\n",
            "235/235 [==============================] - 1s 6ms/step - loss: 0.0053 - accuracy: 0.9982\n",
            "Epoch 38/50\n",
            "235/235 [==============================] - 1s 6ms/step - loss: 0.0027 - accuracy: 0.9992\n",
            "Epoch 39/50\n",
            "235/235 [==============================] - 1s 6ms/step - loss: 0.0023 - accuracy: 0.9992\n",
            "Epoch 40/50\n",
            "235/235 [==============================] - 1s 6ms/step - loss: 0.0016 - accuracy: 0.9995\n",
            "Epoch 41/50\n",
            "235/235 [==============================] - 1s 6ms/step - loss: 0.0058 - accuracy: 0.9980\n",
            "Epoch 42/50\n",
            "235/235 [==============================] - 1s 6ms/step - loss: 0.0046 - accuracy: 0.9983\n",
            "Epoch 43/50\n",
            "235/235 [==============================] - 1s 6ms/step - loss: 0.0027 - accuracy: 0.9990\n",
            "Epoch 44/50\n",
            "235/235 [==============================] - 1s 6ms/step - loss: 0.0024 - accuracy: 0.9991\n",
            "Epoch 45/50\n",
            "235/235 [==============================] - 1s 6ms/step - loss: 0.0029 - accuracy: 0.9990\n",
            "Epoch 46/50\n",
            "235/235 [==============================] - 1s 6ms/step - loss: 0.0037 - accuracy: 0.9985\n",
            "Epoch 47/50\n",
            "235/235 [==============================] - 1s 6ms/step - loss: 0.0019 - accuracy: 0.9994\n",
            "Epoch 48/50\n",
            "235/235 [==============================] - 1s 6ms/step - loss: 4.5543e-04 - accuracy: 0.9999\n",
            "Epoch 49/50\n",
            "235/235 [==============================] - 1s 6ms/step - loss: 0.0032 - accuracy: 0.9990\n",
            "Epoch 50/50\n",
            "235/235 [==============================] - 1s 6ms/step - loss: 0.0035 - accuracy: 0.9988\n"
          ]
        },
        {
          "output_type": "execute_result",
          "data": {
            "text/plain": [
              "<keras.callbacks.History at 0x7ffa8c1b4f90>"
            ]
          },
          "metadata": {},
          "execution_count": 9
        }
      ]
    },
    {
      "cell_type": "code",
      "source": [
        "model.evaluate(x_test, y_test, batch_size=256)"
      ],
      "metadata": {
        "id": "i5e9Am3aR360",
        "colab": {
          "base_uri": "https://localhost:8080/"
        },
        "outputId": "58707f55-cab7-4707-d71d-6f80c6c0575b"
      },
      "execution_count": 10,
      "outputs": [
        {
          "output_type": "stream",
          "name": "stdout",
          "text": [
            "40/40 [==============================] - 0s 5ms/step - loss: 0.0708 - accuracy: 0.9882\n"
          ]
        },
        {
          "output_type": "execute_result",
          "data": {
            "text/plain": [
              "[0.07080277800559998, 0.9882000088691711]"
            ]
          },
          "metadata": {},
          "execution_count": 10
        }
      ]
    }
  ]
}