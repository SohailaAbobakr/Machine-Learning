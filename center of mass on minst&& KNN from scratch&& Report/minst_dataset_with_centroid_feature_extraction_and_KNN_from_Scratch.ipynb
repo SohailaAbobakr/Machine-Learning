{
  "cells": [
    {
      "cell_type": "code",
      "execution_count": null,
      "id": "3c39279f",
      "metadata": {
        "id": "3c39279f"
      },
      "outputs": [],
      "source": [
        "import numpy as np\n",
        "import tensorflow as tf\n",
        "import keras \n",
        "import matplotlib.pyplot as plt"
      ]
    },
    {
      "cell_type": "code",
      "execution_count": null,
      "id": "e46a2bd9",
      "metadata": {
        "colab": {
          "base_uri": "https://localhost:8080/"
        },
        "id": "e46a2bd9",
        "outputId": "8a32adf4-3832-447f-8292-d7a6c9ae2145"
      },
      "outputs": [
        {
          "name": "stdout",
          "output_type": "stream",
          "text": [
            "Downloading data from https://storage.googleapis.com/tensorflow/tf-keras-datasets/mnist.npz\n",
            "11493376/11490434 [==============================] - 0s 0us/step\n",
            "11501568/11490434 [==============================] - 0s 0us/step\n"
          ]
        }
      ],
      "source": [
        "(X_train, Y_train), (X_test, Y_test) = keras.datasets.mnist.load_data()"
      ]
    },
    {
      "cell_type": "code",
      "execution_count": null,
      "id": "b9f570b1",
      "metadata": {
        "id": "b9f570b1"
      },
      "outputs": [],
      "source": [
        "def valueCounts(x):\n",
        "    unique, counts = np.unique(x, return_counts=True)\n",
        "    return dict(zip(unique,counts))"
      ]
    },
    {
      "cell_type": "markdown",
      "id": "STjKeVh_Pm-q",
      "metadata": {
        "id": "STjKeVh_Pm-q"
      },
      "source": [
        ""
      ]
    },
    {
      "cell_type": "code",
      "execution_count": null,
      "id": "6c873f32",
      "metadata": {
        "colab": {
          "base_uri": "https://localhost:8080/"
        },
        "id": "6c873f32",
        "outputId": "ecfa9a40-b702-4e89-a186-ef3c67e92e95"
      },
      "outputs": [
        {
          "data": {
            "text/plain": [
              "{0: 5923,\n",
              " 1: 6742,\n",
              " 2: 5958,\n",
              " 3: 6131,\n",
              " 4: 5842,\n",
              " 5: 5421,\n",
              " 6: 5918,\n",
              " 7: 6265,\n",
              " 8: 5851,\n",
              " 9: 5949}"
            ]
          },
          "execution_count": 4,
          "metadata": {},
          "output_type": "execute_result"
        }
      ],
      "source": [
        "valueCounts(Y_train)"
      ]
    },
    {
      "cell_type": "code",
      "execution_count": null,
      "id": "fdabd4a0",
      "metadata": {
        "id": "fdabd4a0"
      },
      "outputs": [],
      "source": [
        "def getSamples(x, y, amount, category):\n",
        "    data = []\n",
        "    label = []\n",
        "    counter = 0\n",
        "    for i,j in zip(x, y):\n",
        "        if(counter==amount):\n",
        "            break\n",
        "        else:\n",
        "            if(j == category):\n",
        "                data.append(i)\n",
        "                label.append(j)\n",
        "                counter+=1\n",
        "    return data, label"
      ]
    },
    {
      "cell_type": "code",
      "execution_count": null,
      "id": "6858572d",
      "metadata": {
        "id": "6858572d"
      },
      "outputs": [],
      "source": [
        "x_train = []\n",
        "y_train = []\n",
        "for i in range(10):\n",
        "    x,y = getSamples(X_train, Y_train, 1000,i)\n",
        "    x_train+=x\n",
        "    y_train+=y\n",
        "x_train = np.array(x_train)\n",
        "y_train = np.array(y_train)"
      ]
    },
    {
      "cell_type": "code",
      "execution_count": null,
      "id": "fdc842b4",
      "metadata": {
        "colab": {
          "base_uri": "https://localhost:8080/"
        },
        "id": "fdc842b4",
        "outputId": "2940dbb8-10cc-4dfe-980c-3d964702cbb5"
      },
      "outputs": [
        {
          "data": {
            "text/plain": [
              "{0: 1000,\n",
              " 1: 1000,\n",
              " 2: 1000,\n",
              " 3: 1000,\n",
              " 4: 1000,\n",
              " 5: 1000,\n",
              " 6: 1000,\n",
              " 7: 1000,\n",
              " 8: 1000,\n",
              " 9: 1000}"
            ]
          },
          "execution_count": 7,
          "metadata": {},
          "output_type": "execute_result"
        }
      ],
      "source": [
        "valueCounts(y_train)"
      ]
    },
    {
      "cell_type": "code",
      "execution_count": null,
      "id": "e307aae3",
      "metadata": {
        "id": "e307aae3"
      },
      "outputs": [],
      "source": [
        "x_test = X_test[:1000,:]\n",
        "y_test = Y_test[:1000]"
      ]
    },
    {
      "cell_type": "code",
      "execution_count": null,
      "id": "943e54e7",
      "metadata": {
        "colab": {
          "base_uri": "https://localhost:8080/"
        },
        "id": "943e54e7",
        "outputId": "c43bc601-c5fa-4b13-961c-c86d3101b120"
      },
      "outputs": [
        {
          "name": "stdout",
          "output_type": "stream",
          "text": [
            "Train's dim (10000, 28, 28) Train's label dim (10000,)\n",
            " Test's dim (1000, 28, 28) Test's label dim (1000,)\n"
          ]
        }
      ],
      "source": [
        "print(f\"Train's dim {x_train.shape} Train's label dim {y_train.shape}\\n Test's dim {x_test.shape} Test's label dim {y_test.shape}\")"
      ]
    },
    {
      "cell_type": "code",
      "execution_count": null,
      "id": "cf06e2fd",
      "metadata": {
        "colab": {
          "base_uri": "https://localhost:8080/",
          "height": 282
        },
        "id": "cf06e2fd",
        "outputId": "a6238e89-b9b8-4764-e7f4-4cd5830702ed"
      },
      "outputs": [
        {
          "data": {
            "text/plain": [
              "<matplotlib.image.AxesImage at 0x7fae61cdd690>"
            ]
          },
          "execution_count": 10,
          "metadata": {},
          "output_type": "execute_result"
        },
        {
          "data": {
            "image/png": "[encoded data removed]",
            "text/plain": [
              "<Figure size 432x288 with 1 Axes>"
            ]
          },
          "metadata": {
            "needs_background": "light"
          },
          "output_type": "display_data"
        }
      ],
      "source": [
        "Img = x_train[2]\n",
        "plt.imshow(Img)"
      ]
    },
    {
      "cell_type": "code",
      "execution_count": null,
      "id": "0cfe8b69",
      "metadata": {
        "id": "0cfe8b69"
      },
      "outputs": [],
      "source": [
        "def getGrids(img, winRow, winCol):\n",
        "    grids = []\n",
        "    imgR, imgC = img.shape\n",
        "    rowLimitation = imgR-1 #- winRow\n",
        "    colLimitation = imgC-1 #- winCol\n",
        "\n",
        "    for r in range(0, rowLimitation, winRow):\n",
        "        for c in range(0, colLimitation, winCol):\n",
        "            grid = img[r:r+winRow, c:c+winCol]\n",
        "            grids.append(grid)\n",
        "  \n",
        "    return np.array(grids)"
      ]
    },
    {
      "cell_type": "code",
      "execution_count": null,
      "id": "da93fc03",
      "metadata": {
        "colab": {
          "base_uri": "https://localhost:8080/"
        },
        "id": "da93fc03",
        "outputId": "b4a7a6b0-6022-4b65-c3f1-620e7191b4ef"
      },
      "outputs": [
        {
          "data": {
            "text/plain": [
              "(16, 7, 7)"
            ]
          },
          "execution_count": 12,
          "metadata": {},
          "output_type": "execute_result"
        }
      ],
      "source": [
        "grids = getGrids(Img, 7, 7)\n",
        "grids.shape"
      ]
    },
    {
      "cell_type": "code",
      "execution_count": null,
      "id": "0d2c4b0e",
      "metadata": {
        "colab": {
          "base_uri": "https://localhost:8080/",
          "height": 608
        },
        "id": "0d2c4b0e",
        "outputId": "dd9c394b-eac5-4523-bc79-be8aa85e7e33"
      },
      "outputs": [
        {
          "data": {
            "image/png": "[encoded data removed]",
            "text/plain": [
              "<Figure size 720x720 with 16 Axes>"
            ]
          },
          "metadata": {
            "needs_background": "light"
          },
          "output_type": "display_data"
        }
      ],
      "source": [
        "fig, axs = plt.subplots(4, 4, figsize=(10,10))\n",
        "col = 0\n",
        "for r, w in enumerate(grids):\n",
        "    axs[r//4, col].imshow(w)\n",
        "    axs[r//4, col].set_title(f'Grid{r+1}')\n",
        "    col+=1\n",
        "    col = col % 4"
      ]
    },
    {
      "cell_type": "code",
      "execution_count": null,
      "id": "d955f510",
      "metadata": {
        "id": "d955f510"
      },
      "outputs": [],
      "source": [
        "def getFeaVector(grids):\n",
        "    feaVector = []\n",
        "    for grid in grids:\n",
        "        gridR, gridC = grid.shape\n",
        "        sumPixels = 0\n",
        "        X = 0\n",
        "        Y = 0\n",
        "        for r in range(gridR):\n",
        "            for c in range(gridC):\n",
        "                sumPixels+= grid[r][c]\n",
        "                X+= r * grid[r][c]\n",
        "                Y+= c * grid[r][c]\n",
        "        if(sumPixels!=0):\n",
        "            X/= sumPixels\n",
        "            Y/= sumPixels\n",
        "            feaVector.append(X)\n",
        "            feaVector.append(Y)\n",
        "        else:\n",
        "            feaVector.append(0)\n",
        "            feaVector.append(0)     \n",
        "    return np.array(feaVector)"
      ]
    },
    {
      "cell_type": "code",
      "execution_count": null,
      "id": "8a2712ac",
      "metadata": {
        "colab": {
          "base_uri": "https://localhost:8080/"
        },
        "id": "8a2712ac",
        "outputId": "95a727ee-0ad0-4b76-cabe-dc6c009594d5"
      },
      "outputs": [
        {
          "data": {
            "text/plain": [
              "(32,)"
            ]
          },
          "execution_count": 15,
          "metadata": {},
          "output_type": "execute_result"
        }
      ],
      "source": [
        "fv = getFeaVector(grids)\n",
        "fv.shape"
      ]
    },
    {
      "cell_type": "code",
      "execution_count": null,
      "id": "def3d4f5",
      "metadata": {
        "colab": {
          "base_uri": "https://localhost:8080/"
        },
        "id": "def3d4f5",
        "outputId": "4557cf59-d10d-44e3-ea25-c9d096cf3910"
      },
      "outputs": [
        {
          "data": {
            "text/plain": [
              "array([0.        , 0.        , 0.        , 0.        , 5.57050126,\n",
              "       2.80887126, 6.        , 0.        , 0.        , 0.        ,\n",
              "       3.82885906, 4.93803132, 2.44006908, 3.33690271, 3.        ,\n",
              "       0.        , 0.        , 0.        , 3.08031723, 3.38284066,\n",
              "       3.03331805, 3.19929696, 0.        , 0.        , 0.        ,\n",
              "       0.        , 1.24186358, 3.98818547, 0.76591981, 0.77535377,\n",
              "       0.        , 0.        ])"
            ]
          },
          "execution_count": 16,
          "metadata": {},
          "output_type": "execute_result"
        }
      ],
      "source": [
        "fv"
      ]
    },
    {
      "cell_type": "code",
      "execution_count": null,
      "id": "49287461",
      "metadata": {
        "id": "49287461"
      },
      "outputs": [],
      "source": [
        "def FV(d, winR = 7, winC = 7):\n",
        "    dGrids = []\n",
        "    FV = []\n",
        "\n",
        "    for i in d:\n",
        "        dGrids.append(getGrids(i, winR, winC))\n",
        "    for i in dGrids:\n",
        "        FV.append(getFeaVector(i))\n",
        "  \n",
        "    return np.array(FV)"
      ]
    },
    {
      "cell_type": "code",
      "execution_count": null,
      "id": "65aeb7fb",
      "metadata": {
        "colab": {
          "base_uri": "https://localhost:8080/"
        },
        "id": "65aeb7fb",
        "outputId": "75906f67-fdd4-47da-e009-fd90a8aecc11"
      },
      "outputs": [
        {
          "data": {
            "text/plain": [
              "(10000, 32)"
            ]
          },
          "execution_count": 18,
          "metadata": {},
          "output_type": "execute_result"
        }
      ],
      "source": [
        "x_trainFV = FV(x_train)\n",
        "x_trainFV.shape"
      ]
    },
    {
      "cell_type": "code",
      "execution_count": null,
      "id": "47d0b299",
      "metadata": {
        "colab": {
          "base_uri": "https://localhost:8080/"
        },
        "id": "47d0b299",
        "outputId": "8fc32554-13a4-42cb-8dd9-f7342b6e835d"
      },
      "outputs": [
        {
          "data": {
            "text/plain": [
              "(1000, 32)"
            ]
          },
          "execution_count": 19,
          "metadata": {},
          "output_type": "execute_result"
        }
      ],
      "source": [
        "x_testFV = FV(x_test)\n",
        "x_testFV.shape"
      ]
    },
    {
      "cell_type": "code",
      "execution_count": null,
      "id": "13d7cc93",
      "metadata": {
        "id": "13d7cc93"
      },
      "outputs": [],
      "source": [
        "from sklearn.metrics import mean_squared_error\n",
        "pred_l = []\n",
        "def KNN(k, x_testFV, x_trainFV, y_train):\n",
        "    for i in x_testFV:\n",
        "        minDist = []\n",
        "        for j in x_trainFV:\n",
        "            minDist.append(mean_squared_error(i, j))\n",
        "        minDist = np.array(minDist)\n",
        "        row = []\n",
        "        for j in range(k):\n",
        "            row.append(y_train[np.argmin(minDist)])\n",
        "            minDist = np.delete(minDist, np.argmin(minDist))\n",
        "        pred_l.append(row)\n",
        "    return pred_l"
      ]
    },
    {
      "cell_type": "code",
      "execution_count": null,
      "id": "2773baba",
      "metadata": {
        "id": "2773baba"
      },
      "outputs": [],
      "source": [
        "def voting(y):\n",
        "    most_f = []\n",
        "    for n in y:\n",
        "        counts = np.bincount(n)\n",
        "        most_f.append(np.argwhere(counts == np.max(counts))[-1][0])\n",
        "    most_f = np.array(most_f)\n",
        "    return most_f"
      ]
    },
    {
      "cell_type": "code",
      "execution_count": null,
      "id": "bcb98cea",
      "metadata": {
        "id": "bcb98cea"
      },
      "outputs": [],
      "source": [
        "def accuracy(y_test, y_predicted):\n",
        "    counter = 0\n",
        "    for i in range(len(y_test)):\n",
        "        if y_predicted[i] == y_test[i]:\n",
        "            counter+=1\n",
        "    acc = counter / (len(y_test))\n",
        "    return acc"
      ]
    },
    {
      "cell_type": "code",
      "execution_count": null,
      "id": "fe1fb526",
      "metadata": {
        "colab": {
          "base_uri": "https://localhost:8080/"
        },
        "id": "fe1fb526",
        "outputId": "485c306e-a109-4db7-82f4-8128a09c59db"
      },
      "outputs": [
        {
          "data": {
            "text/plain": [
              "0.849"
            ]
          },
          "execution_count": 24,
          "metadata": {},
          "output_type": "execute_result"
        }
      ],
      "source": [
        "y_pred = KNN(1, x_testFV, x_trainFV, y_train)\n",
        "res = voting(y_pred)\n",
        "accuracy(y_test, res)"
      ]
    }
  ],
  "metadata": {
    "colab": {
      "name": "minst dataset with centroid feature extraction and KNN from Scratch.ipynb",
      "provenance": []
    },
    "kernelspec": {
      "display_name": "Python 3 (ipykernel)",
      "language": "python",
      "name": "python3"
    },
    "language_info": {
      "codemirror_mode": {
        "name": "ipython",
        "version": 3
      },
      "file_extension": ".py",
      "mimetype": "text/x-python",
      "name": "python",
      "nbconvert_exporter": "python",
      "pygments_lexer": "ipython3",
      "version": "3.9.6"
    }
  },
  "nbformat": 4,
  "nbformat_minor": 5
}